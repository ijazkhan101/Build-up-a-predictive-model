{
 "cells": [
  {
   "attachments": {},
   "cell_type": "markdown",
   "metadata": {},
   "source": [
    "Data Exploration"
   ]
  },
  {
   "cell_type": "code",
   "execution_count": 2,
   "metadata": {},
   "outputs": [],
   "source": [
    "import pandas as pd\n",
    "import numpy as np\n",
    "import matplotlib.pyplot as plt"
   ]
  },
  {
   "cell_type": "code",
   "execution_count": 6,
   "metadata": {},
   "outputs": [
    {
     "data": {
      "text/html": [
       "<div>\n",
       "<style scoped>\n",
       "    .dataframe tbody tr th:only-of-type {\n",
       "        vertical-align: middle;\n",
       "    }\n",
       "\n",
       "    .dataframe tbody tr th {\n",
       "        vertical-align: top;\n",
       "    }\n",
       "\n",
       "    .dataframe thead th {\n",
       "        text-align: right;\n",
       "    }\n",
       "</style>\n",
       "<table border=\"1\" class=\"dataframe\">\n",
       "  <thead>\n",
       "    <tr style=\"text-align: right;\">\n",
       "      <th></th>\n",
       "      <th>NEIGHBORHOOD</th>\n",
       "      <th>BUILDING_CLASS_CATEGORY</th>\n",
       "      <th>TAX_CLASS_AT_PRESENT</th>\n",
       "      <th>BLOCK</th>\n",
       "      <th>LOT</th>\n",
       "      <th>BUILDING_CLASS_PRESENT</th>\n",
       "      <th>ADDRESS</th>\n",
       "      <th>ZIP_CODE</th>\n",
       "      <th>RESIDENTIAL_UNITS</th>\n",
       "      <th>COMMERCIAL_UNITS</th>\n",
       "      <th>TOTAL_UNITS</th>\n",
       "      <th>LAND_SQUARE_FEET</th>\n",
       "      <th>GROSS_SQUARE_FEET</th>\n",
       "      <th>YEAR_BUILT</th>\n",
       "      <th>TAX_CLASS_AT_TIME_OF_SALE</th>\n",
       "      <th>BUILDING_CLASS_AT_TIME_OF_SALE</th>\n",
       "      <th>SALES</th>\n",
       "      <th>SALE_DATE</th>\n",
       "    </tr>\n",
       "  </thead>\n",
       "  <tbody>\n",
       "    <tr>\n",
       "      <th>0</th>\n",
       "      <td>ALPHABET CITY</td>\n",
       "      <td>07  RENTALS - WALKUP APARTMENTS</td>\n",
       "      <td>2B</td>\n",
       "      <td>374</td>\n",
       "      <td>1</td>\n",
       "      <td>C7</td>\n",
       "      <td>303 EAST 4TH STREET</td>\n",
       "      <td>10009.0</td>\n",
       "      <td>8</td>\n",
       "      <td>2.0</td>\n",
       "      <td>10</td>\n",
       "      <td>1,501</td>\n",
       "      <td>6,929</td>\n",
       "      <td>1900.0</td>\n",
       "      <td>2</td>\n",
       "      <td>C7</td>\n",
       "      <td>0</td>\n",
       "      <td>2013-05-02</td>\n",
       "    </tr>\n",
       "    <tr>\n",
       "      <th>1</th>\n",
       "      <td>ALPHABET CITY</td>\n",
       "      <td>07  RENTALS - WALKUP APARTMENTS</td>\n",
       "      <td>2B</td>\n",
       "      <td>385</td>\n",
       "      <td>1</td>\n",
       "      <td>C7</td>\n",
       "      <td>17 AVENUE B</td>\n",
       "      <td>10009.0</td>\n",
       "      <td>7</td>\n",
       "      <td>1.0</td>\n",
       "      <td>8</td>\n",
       "      <td>2,093</td>\n",
       "      <td>5,852</td>\n",
       "      <td>1997.0</td>\n",
       "      <td>2</td>\n",
       "      <td>C7</td>\n",
       "      <td>283</td>\n",
       "      <td>2013-04-18</td>\n",
       "    </tr>\n",
       "    <tr>\n",
       "      <th>2</th>\n",
       "      <td>ALPHABET CITY</td>\n",
       "      <td>07  RENTALS - WALKUP APARTMENTS</td>\n",
       "      <td>2</td>\n",
       "      <td>397</td>\n",
       "      <td>33</td>\n",
       "      <td>C7</td>\n",
       "      <td>14 AVENUE B</td>\n",
       "      <td>10009.0</td>\n",
       "      <td>25</td>\n",
       "      <td>2.0</td>\n",
       "      <td>27</td>\n",
       "      <td>3,574</td>\n",
       "      <td>18,212</td>\n",
       "      <td>1925.0</td>\n",
       "      <td>2</td>\n",
       "      <td>C7</td>\n",
       "      <td>13185684</td>\n",
       "      <td>2013-01-31</td>\n",
       "    </tr>\n",
       "    <tr>\n",
       "      <th>3</th>\n",
       "      <td>ALPHABET CITY</td>\n",
       "      <td>07  RENTALS - WALKUP APARTMENTS</td>\n",
       "      <td>2B</td>\n",
       "      <td>398</td>\n",
       "      <td>52</td>\n",
       "      <td>C7</td>\n",
       "      <td>174 EAST 2ND   STREET</td>\n",
       "      <td>10009.0</td>\n",
       "      <td>9</td>\n",
       "      <td>1.0</td>\n",
       "      <td>10</td>\n",
       "      <td>2,226</td>\n",
       "      <td>5,250</td>\n",
       "      <td>1900.0</td>\n",
       "      <td>2</td>\n",
       "      <td>C7</td>\n",
       "      <td>0</td>\n",
       "      <td>2013-07-01</td>\n",
       "    </tr>\n",
       "  </tbody>\n",
       "</table>\n",
       "</div>"
      ],
      "text/plain": [
       "                NEIGHBORHOOD                       BUILDING_CLASS_CATEGORY  \\\n",
       "0  ALPHABET CITY              07  RENTALS - WALKUP APARTMENTS                \n",
       "1  ALPHABET CITY              07  RENTALS - WALKUP APARTMENTS                \n",
       "2  ALPHABET CITY              07  RENTALS - WALKUP APARTMENTS                \n",
       "3  ALPHABET CITY              07  RENTALS - WALKUP APARTMENTS                \n",
       "\n",
       "  TAX_CLASS_AT_PRESENT  BLOCK  LOT BUILDING_CLASS_PRESENT  \\\n",
       "0                   2B    374    1                     C7   \n",
       "1                   2B    385    1                     C7   \n",
       "2                    2    397   33                     C7   \n",
       "3                   2B    398   52                     C7   \n",
       "\n",
       "                                       ADDRESS  ZIP_CODE RESIDENTIAL_UNITS  \\\n",
       "0   303 EAST 4TH STREET                          10009.0                 8   \n",
       "1   17 AVENUE B                                  10009.0                 7   \n",
       "2   14 AVENUE B                                  10009.0                25   \n",
       "3   174 EAST 2ND   STREET                        10009.0                 9   \n",
       "\n",
       "   COMMERCIAL_UNITS TOTAL_UNITS LAND_SQUARE_FEET GROSS_SQUARE_FEET  \\\n",
       "0               2.0          10            1,501             6,929   \n",
       "1               1.0           8            2,093             5,852   \n",
       "2               2.0          27            3,574            18,212   \n",
       "3               1.0          10            2,226             5,250   \n",
       "\n",
       "   YEAR_BUILT  TAX_CLASS_AT_TIME_OF_SALE BUILDING_CLASS_AT_TIME_OF_SALE  \\\n",
       "0      1900.0                          2                            C7    \n",
       "1      1997.0                          2                            C7    \n",
       "2      1925.0                          2                            C7    \n",
       "3      1900.0                          2                            C7    \n",
       "\n",
       "      SALES   SALE_DATE  \n",
       "0         0  2013-05-02  \n",
       "1       283  2013-04-18  \n",
       "2  13185684  2013-01-31  \n",
       "3         0  2013-07-01  "
      ]
     },
     "execution_count": 6,
     "metadata": {},
     "output_type": "execute_result"
    }
   ],
   "source": [
    "df= pd.read_csv('cleaned_dataset.csv')\n",
    "df.head(4)"
   ]
  },
  {
   "attachments": {},
   "cell_type": "markdown",
   "metadata": {},
   "source": [
    "### visalise the price across  neighorhood "
   ]
  },
  {
   "cell_type": "code",
   "execution_count": 7,
   "metadata": {},
   "outputs": [
    {
     "data": {
      "image/png": "[encoded data removed]",
      "text/plain": [
       "<Figure size 640x480 with 1 Axes>"
      ]
     },
     "metadata": {},
     "output_type": "display_data"
    }
   ],
   "source": [
    "# create a bar plot\n",
    "plt.bar(df['NEIGHBORHOOD'], df['SALES'])\n",
    "\n",
    "# add labels and title\n",
    "plt.xlabel('NEIGHBORHOOD')\n",
    "plt.ylabel('Average Price')\n",
    "plt.title('Price Across NEIGHBORHOOD')\n",
    "\n",
    "# show the plot\n",
    "plt.show()"
   ]
  },
  {
   "attachments": {},
   "cell_type": "markdown",
   "metadata": {},
   "source": [
    "## visalise the price over time "
   ]
  },
  {
   "cell_type": "code",
   "execution_count": 14,
   "metadata": {},
   "outputs": [
    {
     "ename": "NameError",
     "evalue": "name 'data' is not defined",
     "output_type": "error",
     "traceback": [
      "\u001b[1;31m---------------------------------------------------------------------------\u001b[0m",
      "\u001b[1;31mNameError\u001b[0m                                 Traceback (most recent call last)",
      "Cell \u001b[1;32mIn[14], line 1\u001b[0m\n\u001b[1;32m----> 1\u001b[0m data[\u001b[39m'\u001b[39m\u001b[39mSALES\u001b[39m\u001b[39m'\u001b[39m]\u001b[39m.\u001b[39mplot(figsize\u001b[39m=\u001b[39m(\u001b[39m10\u001b[39m, \u001b[39m5\u001b[39m))\n\u001b[0;32m      2\u001b[0m plt\u001b[39m.\u001b[39mxlabel(\u001b[39m'\u001b[39m\u001b[39mDate\u001b[39m\u001b[39m'\u001b[39m)\n\u001b[0;32m      3\u001b[0m plt\u001b[39m.\u001b[39mylabel(\u001b[39m'\u001b[39m\u001b[39mSALES\u001b[39m\u001b[39m'\u001b[39m)\n",
      "\u001b[1;31mNameError\u001b[0m: name 'data' is not defined"
     ]
    }
   ],
   "source": [
    "data['SALES'].plot(figsize=(10, 5))\n",
    "plt.xlabel('Date')\n",
    "plt.ylabel('SALES')\n",
    "plt.title('Price over time')\n",
    "plt.show()"
   ]
  }
 ],
 "metadata": {
  "kernelspec": {
   "display_name": "jazz",
   "language": "python",
   "name": "python3"
  },
  "language_info": {
   "codemirror_mode": {
    "name": "ipython",
    "version": 3
   },
   "file_extension": ".py",
   "mimetype": "text/x-python",
   "name": "python",
   "nbconvert_exporter": "python",
   "pygments_lexer": "ipython3",
   "version": "3.9.16"
  },
  "orig_nbformat": 4,
  "vscode": {
   "interpreter": {
    "hash": "caff861349737f94cf674bc0f63d83e42fbe9ddc1e97c1624f61bf3fba3ecc44"
   }
  }
 },
 "nbformat": 4,
 "nbformat_minor": 2
}
